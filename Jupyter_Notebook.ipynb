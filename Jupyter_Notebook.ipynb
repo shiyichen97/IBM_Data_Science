{
 "cells": [
  {
   "cell_type": "markdown",
   "metadata": {},
   "source": [
    "<center>\n",
    "    <img src=\"https://s3-api.us-geo.objectstorage.softlayer.net/cf-courses-data/CognitiveClass/Logos/organization_logo/organization_logo.png\" width=\"300\" alt=\"cognitiveclass.ai logo\"  />\n",
    "</center>\n"
   ]
  },
  {
   "cell_type": "markdown",
   "metadata": {},
   "source": [
    "#### Add your code below following the instructions given in the course\n"
   ]
  },
  {
   "cell_type": "markdown",
   "metadata": {},
   "source": [
    "# My Jupyter Notebook on IBM Watson Studio"
   ]
  },
  {
   "cell_type": "markdown",
   "metadata": {},
   "source": [
    "**Yichen Shi**\\\n",
    "Student"
   ]
  },
  {
   "cell_type": "markdown",
   "metadata": {},
   "source": [
    "*I am interested in data science because I like numbers. I enjoy find some insights from dataset.*"
   ]
  },
  {
   "cell_type": "markdown",
   "metadata": {},
   "source": [
    "### I want to say hello to you"
   ]
  },
  {
   "cell_type": "code",
   "execution_count": 1,
   "metadata": {},
   "outputs": [
    {
     "name": "stdout",
     "output_type": "stream",
     "text": [
      "Hello, my classmates\n"
     ]
    }
   ],
   "source": [
    "print(\"Hello, my classmates\")"
   ]
  },
  {
   "cell_type": "markdown",
   "metadata": {},
   "source": [
    "\n",
    "Cell 6\n",
    "\n",
    "---\n",
    "The course list in Data Science Certification\n",
    "1. What is Data Science?\n",
    "2. Tools for Data Science\n",
    "3. Data Science Methodology\n",
    "4. Python for Data Science, AI & Development\n",
    "5. Python Project for Data Science\n",
    "6. Databases and SQL for Data Science with Python\n",
    "7. Data Analysis with Python\n",
    "8. Data Visulization with Python\n",
    "9. Machine Learning with Python\n",
    "20. Applied Data Science Capstone!\n",
    "\n",
    "You can know more information in the certification [page](https://www.coursera.org/professional-certificates/ibm-data-science?trk_ref=caCareerCard)"
   ]
  }
 ],
 "metadata": {
  "kernelspec": {
   "display_name": "Python",
   "language": "python",
   "name": "conda-env-python-py"
  },
  "language_info": {
   "codemirror_mode": {
    "name": "ipython",
    "version": 3
   },
   "file_extension": ".py",
   "mimetype": "text/x-python",
   "name": "python",
   "nbconvert_exporter": "python",
   "pygments_lexer": "ipython3",
   "version": "3.7.12"
  }
 },
 "nbformat": 4,
 "nbformat_minor": 4
}
